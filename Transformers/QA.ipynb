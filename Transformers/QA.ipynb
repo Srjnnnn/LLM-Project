{
 "cells": [
  {
   "cell_type": "code",
   "execution_count": 2,
   "metadata": {},
   "outputs": [
    {
     "data": {
      "text/plain": [
       "['books', 'electronics', 'grocery', 'movies', 'restaurants', 'tripadvisor']"
      ]
     },
     "execution_count": 2,
     "metadata": {},
     "output_type": "execute_result"
    }
   ],
   "source": [
    "from datasets import get_dataset_config_names\n",
    "\n",
    "options = get_dataset_config_names(\"subjqa\", trust_remote_code=True)\n",
    "options"
   ]
  },
  {
   "cell_type": "code",
   "execution_count": 3,
   "metadata": {},
   "outputs": [
    {
     "name": "stdout",
     "output_type": "stream",
     "text": [
      "DatasetDict({\n",
      "    train: Dataset({\n",
      "        features: ['domain', 'nn_mod', 'nn_asp', 'query_mod', 'query_asp', 'q_reviews_id', 'question_subj_level', 'ques_subj_score', 'is_ques_subjective', 'review_id', 'id', 'title', 'context', 'question', 'answers'],\n",
      "        num_rows: 1295\n",
      "    })\n",
      "    test: Dataset({\n",
      "        features: ['domain', 'nn_mod', 'nn_asp', 'query_mod', 'query_asp', 'q_reviews_id', 'question_subj_level', 'ques_subj_score', 'is_ques_subjective', 'review_id', 'id', 'title', 'context', 'question', 'answers'],\n",
      "        num_rows: 358\n",
      "    })\n",
      "    validation: Dataset({\n",
      "        features: ['domain', 'nn_mod', 'nn_asp', 'query_mod', 'query_asp', 'q_reviews_id', 'question_subj_level', 'ques_subj_score', 'is_ques_subjective', 'review_id', 'id', 'title', 'context', 'question', 'answers'],\n",
      "        num_rows: 255\n",
      "    })\n",
      "})\n"
     ]
    }
   ],
   "source": [
    "from datasets import load_dataset\n",
    "\n",
    "dataset = load_dataset(\"subjqa\", name=\"electronics\")\n",
    "\n",
    "print(dataset)"
   ]
  },
  {
   "cell_type": "code",
   "execution_count": 4,
   "metadata": {},
   "outputs": [
    {
     "data": {
      "text/plain": [
       "{'text': ['Bass is weak as expected',\n",
       "  'Bass is weak as expected, even with EQ adjusted up'],\n",
       " 'answer_start': [1302, 1302],\n",
       " 'answer_subj_level': [1, 1],\n",
       " 'ans_subj_score': [0.5083333253860474, 0.5083333253860474],\n",
       " 'is_ans_subjective': [True, True]}"
      ]
     },
     "execution_count": 4,
     "metadata": {},
     "output_type": "execute_result"
    }
   ],
   "source": [
    "dataset[\"train\"][\"answers\"][1]"
   ]
  },
  {
   "cell_type": "code",
   "execution_count": 5,
   "metadata": {},
   "outputs": [
    {
     "name": "stdout",
     "output_type": "stream",
     "text": [
      "Number of questions in train: 1295\n",
      "Number of questions in test: 358\n",
      "Number of questions in validation: 255\n"
     ]
    }
   ],
   "source": [
    "import pandas as pd\n",
    "\n",
    "dfs = {split: dset.to_pandas() for split, dset in dataset.flatten().items()}\n",
    "\n",
    "for split, df in dfs.items():\n",
    "    print(f\"Number of questions in {split}: {df['id'].nunique()}\")"
   ]
  },
  {
   "cell_type": "code",
   "execution_count": 6,
   "metadata": {},
   "outputs": [
    {
     "data": {
      "text/html": [
       "<div>\n",
       "<style scoped>\n",
       "    .dataframe tbody tr th:only-of-type {\n",
       "        vertical-align: middle;\n",
       "    }\n",
       "\n",
       "    .dataframe tbody tr th {\n",
       "        vertical-align: top;\n",
       "    }\n",
       "\n",
       "    .dataframe thead th {\n",
       "        text-align: right;\n",
       "    }\n",
       "</style>\n",
       "<table border=\"1\" class=\"dataframe\">\n",
       "  <thead>\n",
       "    <tr style=\"text-align: right;\">\n",
       "      <th></th>\n",
       "      <th>question_subj_level</th>\n",
       "      <th>ques_subj_score</th>\n",
       "    </tr>\n",
       "  </thead>\n",
       "  <tbody>\n",
       "    <tr>\n",
       "      <th>count</th>\n",
       "      <td>1295.000000</td>\n",
       "      <td>1295.000000</td>\n",
       "    </tr>\n",
       "    <tr>\n",
       "      <th>mean</th>\n",
       "      <td>1.991506</td>\n",
       "      <td>0.169491</td>\n",
       "    </tr>\n",
       "    <tr>\n",
       "      <th>std</th>\n",
       "      <td>1.486390</td>\n",
       "      <td>0.270975</td>\n",
       "    </tr>\n",
       "    <tr>\n",
       "      <th>min</th>\n",
       "      <td>1.000000</td>\n",
       "      <td>0.000000</td>\n",
       "    </tr>\n",
       "    <tr>\n",
       "      <th>25%</th>\n",
       "      <td>1.000000</td>\n",
       "      <td>0.000000</td>\n",
       "    </tr>\n",
       "    <tr>\n",
       "      <th>50%</th>\n",
       "      <td>1.000000</td>\n",
       "      <td>0.000000</td>\n",
       "    </tr>\n",
       "    <tr>\n",
       "      <th>75%</th>\n",
       "      <td>2.000000</td>\n",
       "      <td>0.400000</td>\n",
       "    </tr>\n",
       "    <tr>\n",
       "      <th>max</th>\n",
       "      <td>5.000000</td>\n",
       "      <td>1.000000</td>\n",
       "    </tr>\n",
       "  </tbody>\n",
       "</table>\n",
       "</div>"
      ],
      "text/plain": [
       "       question_subj_level  ques_subj_score\n",
       "count          1295.000000      1295.000000\n",
       "mean              1.991506         0.169491\n",
       "std               1.486390         0.270975\n",
       "min               1.000000         0.000000\n",
       "25%               1.000000         0.000000\n",
       "50%               1.000000         0.000000\n",
       "75%               2.000000         0.400000\n",
       "max               5.000000         1.000000"
      ]
     },
     "execution_count": 6,
     "metadata": {},
     "output_type": "execute_result"
    }
   ],
   "source": [
    "dfs[\"train\"].describe()"
   ]
  },
  {
   "cell_type": "code",
   "execution_count": 7,
   "metadata": {},
   "outputs": [
    {
     "data": {
      "text/html": [
       "<div>\n",
       "<style scoped>\n",
       "    .dataframe tbody tr th:only-of-type {\n",
       "        vertical-align: middle;\n",
       "    }\n",
       "\n",
       "    .dataframe tbody tr th {\n",
       "        vertical-align: top;\n",
       "    }\n",
       "\n",
       "    .dataframe thead th {\n",
       "        text-align: right;\n",
       "    }\n",
       "</style>\n",
       "<table border=\"1\" class=\"dataframe\">\n",
       "  <thead>\n",
       "    <tr style=\"text-align: right;\">\n",
       "      <th></th>\n",
       "      <th>domain</th>\n",
       "      <th>nn_mod</th>\n",
       "      <th>nn_asp</th>\n",
       "      <th>query_mod</th>\n",
       "      <th>query_asp</th>\n",
       "      <th>q_reviews_id</th>\n",
       "      <th>question_subj_level</th>\n",
       "      <th>ques_subj_score</th>\n",
       "      <th>is_ques_subjective</th>\n",
       "      <th>review_id</th>\n",
       "      <th>id</th>\n",
       "      <th>title</th>\n",
       "      <th>context</th>\n",
       "      <th>question</th>\n",
       "      <th>answers.text</th>\n",
       "      <th>answers.answer_start</th>\n",
       "      <th>answers.answer_subj_level</th>\n",
       "      <th>answers.ans_subj_score</th>\n",
       "      <th>answers.is_ans_subjective</th>\n",
       "    </tr>\n",
       "  </thead>\n",
       "  <tbody>\n",
       "    <tr>\n",
       "      <th>0</th>\n",
       "      <td>electronics</td>\n",
       "      <td>great</td>\n",
       "      <td>bass response</td>\n",
       "      <td>excellent</td>\n",
       "      <td>bass</td>\n",
       "      <td>0514ee34b672623dff659334a25b599b</td>\n",
       "      <td>5</td>\n",
       "      <td>0.50</td>\n",
       "      <td>False</td>\n",
       "      <td>882b1e2745a4779c8f17b3d4406b91c7</td>\n",
       "      <td>2543d296da9766d8d17d040ecc781699</td>\n",
       "      <td>B00001P4ZH</td>\n",
       "      <td>I have had Koss headphones in the past, Pro 4A...</td>\n",
       "      <td>How is the bass?</td>\n",
       "      <td>[]</td>\n",
       "      <td>[]</td>\n",
       "      <td>[]</td>\n",
       "      <td>[]</td>\n",
       "      <td>[]</td>\n",
       "    </tr>\n",
       "    <tr>\n",
       "      <th>1</th>\n",
       "      <td>electronics</td>\n",
       "      <td>harsh</td>\n",
       "      <td>high</td>\n",
       "      <td>not strong</td>\n",
       "      <td>bass</td>\n",
       "      <td>7c46670208f7bf5497480fbdbb44561a</td>\n",
       "      <td>1</td>\n",
       "      <td>0.50</td>\n",
       "      <td>False</td>\n",
       "      <td>ce76793f036494eabe07b33a9a67288a</td>\n",
       "      <td>d476830bf9282e2b9033e2bb44bbb995</td>\n",
       "      <td>B00001P4ZH</td>\n",
       "      <td>To anyone who hasn't tried all the various typ...</td>\n",
       "      <td>Is this music song have a goo bass?</td>\n",
       "      <td>[Bass is weak as expected, Bass is weak as exp...</td>\n",
       "      <td>[1302, 1302]</td>\n",
       "      <td>[1, 1]</td>\n",
       "      <td>[0.5083333, 0.5083333]</td>\n",
       "      <td>[True, True]</td>\n",
       "    </tr>\n",
       "    <tr>\n",
       "      <th>2</th>\n",
       "      <td>electronics</td>\n",
       "      <td>neutral</td>\n",
       "      <td>sound</td>\n",
       "      <td>present</td>\n",
       "      <td>bass</td>\n",
       "      <td>8fbf26792c438aa83178c2d507af5d77</td>\n",
       "      <td>1</td>\n",
       "      <td>0.50</td>\n",
       "      <td>False</td>\n",
       "      <td>d040f2713caa2aff0ce95affb40e12c2</td>\n",
       "      <td>455575557886d6dfeea5aa19577e5de4</td>\n",
       "      <td>B00001P4ZH</td>\n",
       "      <td>I have had many sub-$100 headphones from $5 Pa...</td>\n",
       "      <td>How is the bass?</td>\n",
       "      <td>[The only fault in the sound is the bass]</td>\n",
       "      <td>[650]</td>\n",
       "      <td>[2]</td>\n",
       "      <td>[0.6333333]</td>\n",
       "      <td>[True]</td>\n",
       "    </tr>\n",
       "    <tr>\n",
       "      <th>3</th>\n",
       "      <td>electronics</td>\n",
       "      <td>muddy</td>\n",
       "      <td>bass</td>\n",
       "      <td>awesome</td>\n",
       "      <td>bass</td>\n",
       "      <td>9876fd06ed8f075fcad70d1e30e7e8be</td>\n",
       "      <td>1</td>\n",
       "      <td>0.50</td>\n",
       "      <td>False</td>\n",
       "      <td>043e7162df91f6ea916c790c8a6f6b22</td>\n",
       "      <td>6895a59b470d8feee0f39da6c53a92e5</td>\n",
       "      <td>B00001WRSJ</td>\n",
       "      <td>My sister's Bose headphones finally died and s...</td>\n",
       "      <td>How is the audio bass?</td>\n",
       "      <td>[the best of all of them]</td>\n",
       "      <td>[1609]</td>\n",
       "      <td>[1]</td>\n",
       "      <td>[0.3]</td>\n",
       "      <td>[False]</td>\n",
       "    </tr>\n",
       "    <tr>\n",
       "      <th>4</th>\n",
       "      <td>electronics</td>\n",
       "      <td>perfect</td>\n",
       "      <td>bass</td>\n",
       "      <td>incredible</td>\n",
       "      <td>sound</td>\n",
       "      <td>16506b53e2d4c2b6a65881d9462256c2</td>\n",
       "      <td>1</td>\n",
       "      <td>0.65</td>\n",
       "      <td>True</td>\n",
       "      <td>29ccd7e690050e2951be49289e915382</td>\n",
       "      <td>7a2173c502da97c5bd5950eae7cd7430</td>\n",
       "      <td>B00001WRSJ</td>\n",
       "      <td>Wow. Just wow. I'm a 22 yr old with a crazy ob...</td>\n",
       "      <td>Why do I have an incredible sound?</td>\n",
       "      <td>[The sound is so crisp, crazy obsession with s...</td>\n",
       "      <td>[141, 38]</td>\n",
       "      <td>[1, 1]</td>\n",
       "      <td>[0.40833333, 0.40833333]</td>\n",
       "      <td>[False, False]</td>\n",
       "    </tr>\n",
       "  </tbody>\n",
       "</table>\n",
       "</div>"
      ],
      "text/plain": [
       "        domain   nn_mod         nn_asp   query_mod query_asp  \\\n",
       "0  electronics    great  bass response   excellent      bass   \n",
       "1  electronics    harsh           high  not strong      bass   \n",
       "2  electronics  neutral          sound     present      bass   \n",
       "3  electronics    muddy           bass     awesome      bass   \n",
       "4  electronics  perfect           bass  incredible     sound   \n",
       "\n",
       "                       q_reviews_id  question_subj_level  ques_subj_score  \\\n",
       "0  0514ee34b672623dff659334a25b599b                    5             0.50   \n",
       "1  7c46670208f7bf5497480fbdbb44561a                    1             0.50   \n",
       "2  8fbf26792c438aa83178c2d507af5d77                    1             0.50   \n",
       "3  9876fd06ed8f075fcad70d1e30e7e8be                    1             0.50   \n",
       "4  16506b53e2d4c2b6a65881d9462256c2                    1             0.65   \n",
       "\n",
       "   is_ques_subjective                         review_id  \\\n",
       "0               False  882b1e2745a4779c8f17b3d4406b91c7   \n",
       "1               False  ce76793f036494eabe07b33a9a67288a   \n",
       "2               False  d040f2713caa2aff0ce95affb40e12c2   \n",
       "3               False  043e7162df91f6ea916c790c8a6f6b22   \n",
       "4                True  29ccd7e690050e2951be49289e915382   \n",
       "\n",
       "                                 id       title  \\\n",
       "0  2543d296da9766d8d17d040ecc781699  B00001P4ZH   \n",
       "1  d476830bf9282e2b9033e2bb44bbb995  B00001P4ZH   \n",
       "2  455575557886d6dfeea5aa19577e5de4  B00001P4ZH   \n",
       "3  6895a59b470d8feee0f39da6c53a92e5  B00001WRSJ   \n",
       "4  7a2173c502da97c5bd5950eae7cd7430  B00001WRSJ   \n",
       "\n",
       "                                             context  \\\n",
       "0  I have had Koss headphones in the past, Pro 4A...   \n",
       "1  To anyone who hasn't tried all the various typ...   \n",
       "2  I have had many sub-$100 headphones from $5 Pa...   \n",
       "3  My sister's Bose headphones finally died and s...   \n",
       "4  Wow. Just wow. I'm a 22 yr old with a crazy ob...   \n",
       "\n",
       "                              question  \\\n",
       "0                     How is the bass?   \n",
       "1  Is this music song have a goo bass?   \n",
       "2                     How is the bass?   \n",
       "3               How is the audio bass?   \n",
       "4   Why do I have an incredible sound?   \n",
       "\n",
       "                                        answers.text answers.answer_start  \\\n",
       "0                                                 []                   []   \n",
       "1  [Bass is weak as expected, Bass is weak as exp...         [1302, 1302]   \n",
       "2          [The only fault in the sound is the bass]                [650]   \n",
       "3                          [the best of all of them]               [1609]   \n",
       "4  [The sound is so crisp, crazy obsession with s...            [141, 38]   \n",
       "\n",
       "  answers.answer_subj_level    answers.ans_subj_score  \\\n",
       "0                        []                        []   \n",
       "1                    [1, 1]    [0.5083333, 0.5083333]   \n",
       "2                       [2]               [0.6333333]   \n",
       "3                       [1]                     [0.3]   \n",
       "4                    [1, 1]  [0.40833333, 0.40833333]   \n",
       "\n",
       "  answers.is_ans_subjective  \n",
       "0                        []  \n",
       "1              [True, True]  \n",
       "2                    [True]  \n",
       "3                   [False]  \n",
       "4            [False, False]  "
      ]
     },
     "execution_count": 7,
     "metadata": {},
     "output_type": "execute_result"
    }
   ],
   "source": [
    "dfs[\"train\"].head()"
   ]
  },
  {
   "cell_type": "code",
   "execution_count": 8,
   "metadata": {},
   "outputs": [
    {
     "data": {
      "text/plain": [
       "['domain',\n",
       " 'nn_mod',\n",
       " 'nn_asp',\n",
       " 'query_mod',\n",
       " 'query_asp',\n",
       " 'q_reviews_id',\n",
       " 'question_subj_level',\n",
       " 'ques_subj_score',\n",
       " 'is_ques_subjective',\n",
       " 'review_id',\n",
       " 'id',\n",
       " 'title',\n",
       " 'context',\n",
       " 'question',\n",
       " 'answers.text',\n",
       " 'answers.answer_start',\n",
       " 'answers.answer_subj_level',\n",
       " 'answers.ans_subj_score',\n",
       " 'answers.is_ans_subjective']"
      ]
     },
     "execution_count": 8,
     "metadata": {},
     "output_type": "execute_result"
    }
   ],
   "source": [
    "column_names = dfs[\"train\"].columns.tolist()\n",
    "column_names"
   ]
  },
  {
   "cell_type": "code",
   "execution_count": 9,
   "metadata": {},
   "outputs": [
    {
     "data": {
      "image/png": "[encoded data removed]",
      "text/plain": [
       "<Figure size 640x480 with 1 Axes>"
      ]
     },
     "metadata": {},
     "output_type": "display_data"
    }
   ],
   "source": [
    "import matplotlib.pyplot as plt\n",
    "\n",
    "counts = {}\n",
    "question_types = [\"What\", \"How\", \"Is\", \"Does\", \"Do\", \"Was\", \"Where\", \"Why\"]\n",
    "\n",
    "for q in question_types:\n",
    "    counts[q] = dfs[\"train\"][\"question\"].str.startswith(q).value_counts()[True]\n",
    "\n",
    "pd.Series(counts).sort_values().plot.barh()\n",
    "plt.title(\"Frequency of Question Types\")\n",
    "plt.show()"
   ]
  },
  {
   "cell_type": "markdown",
   "metadata": {},
   "source": [
    "##### Go to HF model hub, select QA and search for SQUAD"
   ]
  },
  {
   "cell_type": "code",
   "execution_count": 10,
   "metadata": {},
   "outputs": [
    {
     "name": "stderr",
     "output_type": "stream",
     "text": [
      "/home/sercan/anaconda3/envs/pytorch-environment/lib/python3.10/site-packages/huggingface_hub/file_download.py:1132: FutureWarning: `resume_download` is deprecated and will be removed in version 1.0.0. Downloads always resume when possible. If you want to force a new download, use `force_download=True`.\n",
      "  warnings.warn(\n"
     ]
    }
   ],
   "source": [
    "from transformers import AutoTokenizer\n",
    "\n",
    "model_ckpt = \"deepset/roberta-base-squad2\"\n",
    "tokenizer = AutoTokenizer.from_pretrained(model_ckpt, trust_remote_code=True)"
   ]
  },
  {
   "cell_type": "code",
   "execution_count": 11,
   "metadata": {},
   "outputs": [
    {
     "data": {
      "text/plain": [
       "{'input_ids': tensor([[    0,  6179,   203,   930,    64,    42,   946,   116,     2,     2,\n",
       "          4688,  3957,   246,    16,    59,   112, 17025,    73,  4530,     6,\n",
       "            98,    59, 36300,   722,  6122,    15,  2870,  1836,     4,     2]]), 'attention_mask': tensor([[1, 1, 1, 1, 1, 1, 1, 1, 1, 1, 1, 1, 1, 1, 1, 1, 1, 1, 1, 1, 1, 1, 1, 1,\n",
       "         1, 1, 1, 1, 1, 1]])}"
      ]
     },
     "execution_count": 11,
     "metadata": {},
     "output_type": "execute_result"
    }
   ],
   "source": [
    "question = \"How much music can this hold?\"\n",
    "context = \"An MP3 is about 1 MB/minute, so about 6000 hours depending on file size.\"\n",
    "inputs = tokenizer(question, context, return_tensors=\"pt\")\n",
    "\n",
    "inputs"
   ]
  },
  {
   "cell_type": "code",
   "execution_count": 12,
   "metadata": {},
   "outputs": [
    {
     "name": "stdout",
     "output_type": "stream",
     "text": [
      "<s>How much music can this hold?</s></s>An MP3 is about 1 MB/minute, so about 6000 hours depending on file size.</s>\n"
     ]
    }
   ],
   "source": [
    "print(tokenizer.decode(inputs[\"input_ids\"][0]))"
   ]
  },
  {
   "cell_type": "code",
   "execution_count": 13,
   "metadata": {},
   "outputs": [
    {
     "name": "stdout",
     "output_type": "stream",
     "text": [
      "QuestionAnsweringModelOutput(loss=None, start_logits=tensor([[ 1.1276, -8.1721, -8.4530, -7.9752, -8.5254, -8.6735, -8.0572, -9.5367,\n",
      "         -9.3867, -8.4349,  0.9319,  0.8909, -5.2955, -2.7966,  2.0575,  3.4133,\n",
      "         -1.2010, -4.3265, -3.2173, -5.5264, -1.5662,  1.4979,  2.3764, -2.6608,\n",
      "         -3.6962, -7.0487, -3.4080, -5.4748, -4.6754, -8.8369]]), end_logits=tensor([[ 1.4499, -7.7060, -6.7904, -6.1389, -7.5058, -7.3799, -6.7995, -6.7666,\n",
      "         -7.4103, -6.0500, -4.6616, -4.7859,  1.4522, -4.2961, -2.7452, -1.4223,\n",
      "          0.2536, -0.7084,  4.0795, -0.3075, -4.6912, -3.9767,  0.0340,  3.1081,\n",
      "         -3.2529, -4.7419, -3.2038,  1.0621,  0.9285, -7.0004]]), hidden_states=None, attentions=None)\n"
     ]
    }
   ],
   "source": [
    "import torch\n",
    "from transformers import AutoModelForQuestionAnswering\n",
    "\n",
    "model = AutoModelForQuestionAnswering.from_pretrained(model_ckpt, trust_remote_code=True)\n",
    "\n",
    "with torch.no_grad():\n",
    "    outputs = model(input_ids= inputs[\"input_ids\"], attention_mask= inputs[\"attention_mask\"])\n",
    "print(outputs)"
   ]
  },
  {
   "cell_type": "code",
   "execution_count": 14,
   "metadata": {},
   "outputs": [
    {
     "data": {
      "text/plain": [
       "'<s>How much music can this hold?</s></s>An MP3 is about 1 MB/minute, so about 6000 hours depending on file size.</s>'"
      ]
     },
     "execution_count": 14,
     "metadata": {},
     "output_type": "execute_result"
    }
   ],
   "source": [
    "answer = tokenizer.decode(inputs[\"input_ids\"][0])\n",
    "answer"
   ]
  },
  {
   "cell_type": "code",
   "execution_count": 15,
   "metadata": {},
   "outputs": [],
   "source": [
    "import re\n",
    "\n",
    "def find_all(string, substring):\n",
    "    \"\"\"Returns a list of all indices where 'substring' occurs in 'string'.\"\"\"\n",
    "    length = len(substring)\n",
    "    indexes = []\n",
    "    start = 0\n",
    "\n",
    "    while start < len(string):\n",
    "        start = string.find(substring, start)\n",
    "        if start == -1:\n",
    "            break\n",
    "        indexes.append(start)\n",
    "        start += length  # Use 'start += 1' to find overlapping matches\n",
    "\n",
    "    return indexes"
   ]
  },
  {
   "cell_type": "code",
   "execution_count": 16,
   "metadata": {},
   "outputs": [
    {
     "data": {
      "text/plain": [
       "([0], [32, 36, 112])"
      ]
     },
     "execution_count": 16,
     "metadata": {},
     "output_type": "execute_result"
    }
   ],
   "source": [
    "start_token = \"<s>\"\n",
    "end_token = \"</s>\"\n",
    "\n",
    "start_indexes = find_all(answer, start_token)\n",
    "end_indexes = find_all(answer, end_token)\n",
    "\n",
    "start_indexes, end_indexes"
   ]
  },
  {
   "cell_type": "code",
   "execution_count": 17,
   "metadata": {},
   "outputs": [
    {
     "data": {
      "text/plain": [
       "([0, 0, 2], [0, 2, 2])"
      ]
     },
     "execution_count": 17,
     "metadata": {},
     "output_type": "execute_result"
    }
   ],
   "source": [
    "start_token_encoded = tokenizer.encode(start_token)\n",
    "end_token_encoded = tokenizer.encode(end_token)\n",
    "\n",
    "start_token_encoded, end_token_encoded"
   ]
  },
  {
   "cell_type": "code",
   "execution_count": 18,
   "metadata": {},
   "outputs": [
    {
     "data": {
      "text/plain": [
       "tensor([    0,  6179,   203,   930,    64,    42,   946,   116,     2,     2,\n",
       "         4688,  3957,   246,    16,    59,   112, 17025,    73,  4530,     6,\n",
       "           98,    59, 36300,   722,  6122,    15,  2870,  1836,     4,     2])"
      ]
     },
     "execution_count": 18,
     "metadata": {},
     "output_type": "execute_result"
    }
   ],
   "source": [
    "inputs[\"input_ids\"][0]"
   ]
  },
  {
   "cell_type": "code",
   "execution_count": 19,
   "metadata": {},
   "outputs": [
    {
     "name": "stdout",
     "output_type": "stream",
     "text": [
      "8\n",
      "Question: How much music can this hold?\n",
      "Answer: An MP3 is about 1 MB/minute, so about 6000 hours depending on file size.\n"
     ]
    }
   ],
   "source": [
    "question_end_idx = None\n",
    "for index, element in enumerate(inputs[\"input_ids\"][0]):\n",
    "    if element.item() == 2:\n",
    "        question_end_idx = index\n",
    "        break\n",
    "\n",
    "print(question_end_idx)\n",
    "answer_start_index = question_end_idx + 2\n",
    "\n",
    "question_encoded = inputs[\"input_ids\"][0][1:question_end_idx]\n",
    "answer_encoded = inputs[\"input_ids\"][0][answer_start_index:-1]\n",
    "\n",
    "question_decoded = tokenizer.decode(question_encoded)\n",
    "answer_decoded = tokenizer.decode(answer_encoded)\n",
    "print(f\"Question: {question_decoded}\")\n",
    "print(f\"Answer: {answer_decoded}\")"
   ]
  },
  {
   "cell_type": "code",
   "execution_count": 20,
   "metadata": {},
   "outputs": [
    {
     "data": {
      "text/plain": [
       "[{'score': 0.2898443639278412,\n",
       "  'start': 16,\n",
       "  'end': 27,\n",
       "  'answer': '1 MB/minute'},\n",
       " {'score': 0.10971593856811523,\n",
       "  'start': 16,\n",
       "  'end': 48,\n",
       "  'answer': '1 MB/minute, so about 6000 hours'},\n",
       " {'score': 0.07470740377902985,\n",
       "  'start': 10,\n",
       "  'end': 27,\n",
       "  'answer': 'about 1 MB/minute'}]"
      ]
     },
     "execution_count": 20,
     "metadata": {},
     "output_type": "execute_result"
    }
   ],
   "source": [
    "from transformers import pipeline\n",
    "\n",
    "pipe = pipeline(\"question-answering\", model=model, tokenizer=tokenizer)\n",
    "pipe(question=question_decoded, context=context, top_k=3)"
   ]
  },
  {
   "cell_type": "code",
   "execution_count": 21,
   "metadata": {},
   "outputs": [
    {
     "data": {
      "text/plain": [
       "RobertaConfig {\n",
       "  \"_name_or_path\": \"deepset/roberta-base-squad2\",\n",
       "  \"architectures\": [\n",
       "    \"RobertaForQuestionAnswering\"\n",
       "  ],\n",
       "  \"attention_probs_dropout_prob\": 0.1,\n",
       "  \"bos_token_id\": 0,\n",
       "  \"classifier_dropout\": null,\n",
       "  \"eos_token_id\": 2,\n",
       "  \"gradient_checkpointing\": false,\n",
       "  \"hidden_act\": \"gelu\",\n",
       "  \"hidden_dropout_prob\": 0.1,\n",
       "  \"hidden_size\": 768,\n",
       "  \"initializer_range\": 0.02,\n",
       "  \"intermediate_size\": 3072,\n",
       "  \"language\": \"english\",\n",
       "  \"layer_norm_eps\": 1e-05,\n",
       "  \"max_position_embeddings\": 514,\n",
       "  \"model_type\": \"roberta\",\n",
       "  \"name\": \"Roberta\",\n",
       "  \"num_attention_heads\": 12,\n",
       "  \"num_hidden_layers\": 12,\n",
       "  \"pad_token_id\": 1,\n",
       "  \"position_embedding_type\": \"absolute\",\n",
       "  \"transformers_version\": \"4.39.3\",\n",
       "  \"type_vocab_size\": 1,\n",
       "  \"use_cache\": true,\n",
       "  \"vocab_size\": 50265\n",
       "}"
      ]
     },
     "execution_count": 21,
     "metadata": {},
     "output_type": "execute_result"
    }
   ],
   "source": [
    "model.config"
   ]
  },
  {
   "cell_type": "code",
   "execution_count": 22,
   "metadata": {},
   "outputs": [],
   "source": [
    "example = dfs[\"train\"].iloc[0][[\"question\", \"context\"]]\n",
    "tokenized_example = tokenizer(example[\"question\"], example[\"context\"],\n",
    "                              return_overflowing_tokens=True, max_length=100,\n",
    "                              stride=25, truncation=True)"
   ]
  },
  {
   "cell_type": "code",
   "execution_count": 23,
   "metadata": {},
   "outputs": [
    {
     "name": "stdout",
     "output_type": "stream",
     "text": [
      "Window #0 has 100 tokens\n",
      "Window #1 has 95 tokens\n"
     ]
    }
   ],
   "source": [
    "for idx, window in enumerate(tokenized_example[\"input_ids\"]):\n",
    "    print(f\"Window #{idx} has {len(window)} tokens\")"
   ]
  },
  {
   "cell_type": "code",
   "execution_count": 24,
   "metadata": {},
   "outputs": [
    {
     "name": "stdout",
     "output_type": "stream",
     "text": [
      "<s>How is the bass?</s></s>I have had Koss headphones in the past, Pro 4AA and QZ-99.  The Koss Portapro is portable AND has great bass response.  The work great with my Android phone and can be \"rolled up\" to be carried in my motorcycle jacket or computer bag without getting crunched.  They are very light and do not feel heavy or bear down on your ears even after listening to music with them on all day</s> \n",
      "\n",
      "<s>How is the bass?</s></s> They are very light and do not feel heavy or bear down on your ears even after listening to music with them on all day.  The sound is night and day better than any ear-bud could be and are almost as good as the Pro 4AA.  They are \"open air\" headphones so you cannot match the bass to the sealed types, but it comes close. For $32, you cannot go wrong.</s> \n",
      "\n"
     ]
    }
   ],
   "source": [
    "for window in tokenized_example[\"input_ids\"]:\n",
    "    print(f\"{tokenizer.decode(window)} \\n\")"
   ]
  },
  {
   "cell_type": "code",
   "execution_count": 25,
   "metadata": {},
   "outputs": [],
   "source": [
    "# url = \"\"\"https://artifacts.elastic.co/downloads/elasticsearch/\\\n",
    "# elasticsearch-7.9.2-linux-x86_64.tar.gz\"\"\"\n",
    "# !wget -nc -q {url}\n",
    "# !tar -xzf elasticsearch-7.9.2-linux-x86_64.tar.gz"
   ]
  },
  {
   "cell_type": "code",
   "execution_count": 26,
   "metadata": {},
   "outputs": [],
   "source": [
    "# import os\n",
    "# from subprocess import Popen, PIPE, STDOUT\n",
    "\n",
    "# # Run Elasticsearch as a background process\n",
    "# !chown -R daemon:daemon elasticsearch-7.9.2\n",
    "# es_server = Popen(args=['/home/sercan/Documents/Software/elasticsearch-7.9.2/bin/elasticsearch'],\n",
    "#                   stdout=PIPE, stderr=STDOUT)\n",
    "# # Wait until Elasticsearch has started\n",
    "# !sleep 30\n",
    "\n",
    "## Burası önemli!!!\n",
    "## ./bin/elasticsearch -E xpack.security.enabled=false !!!"
   ]
  },
  {
   "cell_type": "code",
   "execution_count": 27,
   "metadata": {},
   "outputs": [
    {
     "name": "stdout",
     "output_type": "stream",
     "text": [
      "{\n",
      "  \"name\" : \"sercan-ROG-Strix-G834JY-G834JY\",\n",
      "  \"cluster_name\" : \"elasticsearch\",\n",
      "  \"cluster_uuid\" : \"wPQC5DiDQM2jTM2rsxqEfg\",\n",
      "  \"version\" : {\n",
      "    \"number\" : \"8.14.1\",\n",
      "    \"build_flavor\" : \"default\",\n",
      "    \"build_type\" : \"tar\",\n",
      "    \"build_hash\" : \"93a57a1a76f556d8aee6a90d1a95b06187501310\",\n",
      "    \"build_date\" : \"2024-06-10T23:35:17.114581191Z\",\n",
      "    \"build_snapshot\" : false,\n",
      "    \"lucene_version\" : \"9.10.0\",\n",
      "    \"minimum_wire_compatibility_version\" : \"7.17.0\",\n",
      "    \"minimum_index_compatibility_version\" : \"7.0.0\"\n",
      "  },\n",
      "  \"tagline\" : \"You Know, for Search\"\n",
      "}\n"
     ]
    }
   ],
   "source": [
    "!curl -X GET \"localhost:9200/?pretty\""
   ]
  },
  {
   "cell_type": "code",
   "execution_count": 28,
   "metadata": {},
   "outputs": [],
   "source": [
    "from haystack.document_stores.elasticsearch import ElasticsearchDocumentStore\n",
    "\n",
    "# Return the document embedding for later use with dense retriever \n",
    "document_store = ElasticsearchDocumentStore(return_embedding=True)\n",
    "    "
   ]
  },
  {
   "cell_type": "code",
   "execution_count": 29,
   "metadata": {},
   "outputs": [
    {
     "name": "stdout",
     "output_type": "stream",
     "text": [
      "Loaded 1615 documents\n"
     ]
    }
   ],
   "source": [
    "for split, df in dfs.items():\n",
    "    # Exclude duplicate reviews\n",
    "    docs = [{\"content\": row[\"context\"], \"id\": row[\"review_id\"],\n",
    "             \"meta\":{\"item_id\": row[\"title\"], \"question_id\": row[\"id\"], \n",
    "                     \"split\": split}} \n",
    "        for _,row in df.drop_duplicates(subset=\"context\").iterrows()]\n",
    "    document_store.write_documents(documents=docs)\n",
    "    \n",
    "print(f\"Loaded {document_store.get_document_count()} documents\")"
   ]
  },
  {
   "cell_type": "code",
   "execution_count": 30,
   "metadata": {},
   "outputs": [],
   "source": [
    "from haystack.nodes.retriever import BM25Retriever\n",
    "\n",
    "bm25_retriever = BM25Retriever(document_store=document_store)"
   ]
  },
  {
   "cell_type": "code",
   "execution_count": 31,
   "metadata": {},
   "outputs": [],
   "source": [
    "item_id = \"B0074BW614\"\n",
    "query = \"Is it good for reading?\"\n",
    "retrieved_docs = bm25_retriever.retrieve(\n",
    "    query=query, top_k=3, filters={\"item_id\":[item_id], \"split\":[\"train\"]})"
   ]
  },
  {
   "cell_type": "code",
   "execution_count": 32,
   "metadata": {},
   "outputs": [
    {
     "name": "stdout",
     "output_type": "stream",
     "text": [
      "<Document: id=4a6aa9c7808ebba8d35aeecbcc3c30fe, content='This is a gift to myself.  I have been a kindle user for 4 years and this is my third one.  I never ...'>\n"
     ]
    }
   ],
   "source": [
    "print(retrieved_docs[0])"
   ]
  },
  {
   "cell_type": "code",
   "execution_count": 33,
   "metadata": {},
   "outputs": [
    {
     "name": "stderr",
     "output_type": "stream",
     "text": [
      "/home/sercan/anaconda3/envs/pytorch-environment/lib/python3.10/site-packages/huggingface_hub/file_download.py:1132: FutureWarning: `resume_download` is deprecated and will be removed in version 1.0.0. Downloads always resume when possible. If you want to force a new download, use `force_download=True`.\n",
      "  warnings.warn(\n"
     ]
    }
   ],
   "source": [
    "from haystack.nodes import FARMReader\n",
    "\n",
    "max_seq_length, doc_stride = 384, 128\n",
    "reader = FARMReader(model_name_or_path=model_ckpt, progress_bar=False,\n",
    "                    max_seq_len=max_seq_length, doc_stride=doc_stride, \n",
    "                    return_no_answer=True)"
   ]
  },
  {
   "cell_type": "code",
   "execution_count": 35,
   "metadata": {},
   "outputs": [
    {
     "name": "stdout",
     "output_type": "stream",
     "text": [
      "{'query': 'How much music can this hold?', 'no_ans_gap': 4.915365695953369, 'answers': [<Answer {'answer': '', 'type': 'extractive', 'score': 0.5798550296493893, 'context': None, 'offsets_in_document': [{'start': 0, 'end': 0}], 'offsets_in_context': [{'start': 0, 'end': 0}], 'document_ids': None, 'meta': {}}>]}\n"
     ]
    }
   ],
   "source": [
    "print(reader.predict_on_texts(question=question, texts=[context], top_k=1))"
   ]
  },
  {
   "cell_type": "code",
   "execution_count": 37,
   "metadata": {},
   "outputs": [],
   "source": [
    "from haystack.pipelines import ExtractiveQAPipeline\n",
    "\n",
    "pipe = ExtractiveQAPipeline(reader=reader, retriever=bm25_retriever)"
   ]
  },
  {
   "cell_type": "code",
   "execution_count": 41,
   "metadata": {},
   "outputs": [
    {
     "name": "stdout",
     "output_type": "stream",
     "text": [
      "Question: Is it good for reading? \n",
      "\n",
      "Answer 1: \n",
      "Review snippet: ...None...\n",
      "\n",
      "\n",
      "\n",
      "Answer 2: it is great for reading books\n",
      "Review snippet: ...myself after becoming addicted to hers! Our son LOVES it and it is great for reading books when no light is available. Amazing sound but I suggest goo...\n",
      "\n",
      "\n",
      "\n",
      "Answer 3: It's light enough that I can hold it to read, but the larger screen compared to the Kindle makes for easier reading\n",
      "Review snippet: ...t perfect for me. It's light enough that I can hold it to read, but the larger screen compared to the Kindle makes for easier reading. I love the colo...\n",
      "\n",
      "\n",
      "\n"
     ]
    }
   ],
   "source": [
    "n_answers = 3\n",
    "query = \"Is it good for reading?\"\n",
    "preds = pipe.run(query=query, params={\"Retriever\": {\"top_k\": 3, \"filters\":{\"item_id\": [item_id], \"split\":[\"train\"]}}, \n",
    "                                      \"Reader\": {\"top_k\": n_answers}})\n",
    "\n",
    "print(f\"Question: {preds['query']} \\n\")\n",
    "\n",
    "for idx in range(n_answers):\n",
    "    print(f\"Answer {idx+1}: {preds['answers'][idx].answer}\")\n",
    "    print(f\"Review snippet: ...{preds['answers'][idx].context}...\")\n",
    "    print(\"\\n\\n\")"
   ]
  },
  {
   "cell_type": "code",
   "execution_count": null,
   "metadata": {},
   "outputs": [],
   "source": []
  }
 ],
 "metadata": {
  "kernelspec": {
   "display_name": "pytorch-environment",
   "language": "python",
   "name": "python3"
  },
  "language_info": {
   "codemirror_mode": {
    "name": "ipython",
    "version": 3
   },
   "file_extension": ".py",
   "mimetype": "text/x-python",
   "name": "python",
   "nbconvert_exporter": "python",
   "pygments_lexer": "ipython3",
   "version": "3.10.14"
  }
 },
 "nbformat": 4,
 "nbformat_minor": 2
}
