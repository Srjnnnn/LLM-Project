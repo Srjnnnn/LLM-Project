{
 "cells": [
  {
   "cell_type": "code",
   "execution_count": 2,
   "metadata": {},
   "outputs": [],
   "source": [
    "from transformers import AutoModelForCausalLM, AutoTokenizer\n"
   ]
  },
  {
   "cell_type": "code",
   "execution_count": 3,
   "metadata": {},
   "outputs": [
    {
     "name": "stderr",
     "output_type": "stream",
     "text": [
      "/home/sercan/anaconda3/envs/pytorch-environment/lib/python3.10/site-packages/huggingface_hub/file_download.py:1132: FutureWarning: `resume_download` is deprecated and will be removed in version 1.0.0. Downloads always resume when possible. If you want to force a new download, use `force_download=True`.\n",
      "  warnings.warn(\n",
      "/home/sercan/anaconda3/envs/pytorch-environment/lib/python3.10/site-packages/huggingface_hub/file_download.py:1132: FutureWarning: `resume_download` is deprecated and will be removed in version 1.0.0. Downloads always resume when possible. If you want to force a new download, use `force_download=True`.\n",
      "  warnings.warn(\n"
     ]
    }
   ],
   "source": [
    "model = AutoModelForCausalLM.from_pretrained(\"gpt2\")\n",
    "tokenizer = AutoTokenizer.from_pretrained(\"gpt2\")\n"
   ]
  },
  {
   "cell_type": "code",
   "execution_count": 14,
   "metadata": {},
   "outputs": [],
   "source": [
    "prompt = \"Time flies like an arrow\"\n",
    "input_ids = tokenizer(prompt, return_tensors=\"pt\").input_ids\n"
   ]
  },
  {
   "cell_type": "code",
   "execution_count": 15,
   "metadata": {},
   "outputs": [],
   "source": [
    "gen_tokens = model.generate(\n",
    "    input_ids,\n",
    "    do_sample=True,\n",
    "    temperature=0.9,\n",
    "    max_length=100,\n",
    "    pad_token_id=tokenizer.eos_token_id\n",
    ")\n",
    "gen_text = tokenizer.batch_decode(gen_tokens)[0]\n"
   ]
  },
  {
   "cell_type": "code",
   "execution_count": 16,
   "metadata": {},
   "outputs": [
    {
     "data": {
      "text/plain": [
       "'Time flies like an arrow through the air, and there it all is.\\n\\nThe new film is a mix of real-life and virtual reality experiences, with real-world locations and the world itself being shot.\\n\\nIt\\'s called \"The End,\" and the story of the two women who\\'ve met in the past is based on real-life experiences, but the film also features live-action footage of real-life people.\\n\\nIf you\\'re interested in getting a taste of'"
      ]
     },
     "execution_count": 16,
     "metadata": {},
     "output_type": "execute_result"
    }
   ],
   "source": [
    "gen_text"
   ]
  },
  {
   "cell_type": "code",
   "execution_count": 17,
   "metadata": {},
   "outputs": [
    {
     "data": {
      "text/plain": [
       "tensor([[ 7575, 17607,   588,   281, 15452,   832,   262,  1633,    11,   290,\n",
       "           612,   340,   477,   318,    13,   198,   198,   464,   649,  2646,\n",
       "           318,   257,  5022,   286,  1103,    12,  6042,   290,  7166,  3950,\n",
       "          6461,    11,   351,  1103,    12,  6894,  7064,   290,   262,   995,\n",
       "          2346,   852,  2823,    13,   198,   198,  1026,   338,  1444,   366,\n",
       "           464,  5268,   553,   290,   262,  1621,   286,   262,   734,  1466,\n",
       "           508,  1053,  1138,   287,   262,  1613,   318,  1912,   319,  1103,\n",
       "            12,  6042,  6461,    11,   475,   262,  2646,   635,  3033,  2107,\n",
       "            12,  2673,  9640,   286,  1103,    12,  6042,   661,    13,   198,\n",
       "           198,  1532,   345,   821,  4609,   287,  1972,   257,  6938,   286]])"
      ]
     },
     "execution_count": 17,
     "metadata": {},
     "output_type": "execute_result"
    }
   ],
   "source": [
    "gen_tokens"
   ]
  },
  {
   "cell_type": "code",
   "execution_count": null,
   "metadata": {},
   "outputs": [],
   "source": []
  }
 ],
 "metadata": {
  "kernelspec": {
   "display_name": "pytorch-environment",
   "language": "python",
   "name": "python3"
  },
  "language_info": {
   "codemirror_mode": {
    "name": "ipython",
    "version": 3
   },
   "file_extension": ".py",
   "mimetype": "text/x-python",
   "name": "python",
   "nbconvert_exporter": "python",
   "pygments_lexer": "ipython3",
   "version": "3.10.14"
  }
 },
 "nbformat": 4,
 "nbformat_minor": 2
}
